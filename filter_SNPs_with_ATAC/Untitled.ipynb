{
 "cells": [
  {
   "cell_type": "code",
   "execution_count": 1,
   "id": "64d5d5e7",
   "metadata": {},
   "outputs": [],
   "source": [
    "import tabix"
   ]
  },
  {
   "cell_type": "code",
   "execution_count": 2,
   "id": "bb2b4ef9",
   "metadata": {},
   "outputs": [],
   "source": [
    "LD_file=\"/Users/shaotingting/Library/CloudStorage/OneDrive-Personal/tingtingshao/masterThesis/data/GWAS_catalog/EUR_geno.txt.gz\""
   ]
  },
  {
   "cell_type": "code",
   "execution_count": 3,
   "id": "e04be495",
   "metadata": {},
   "outputs": [],
   "source": [
    "LD_processed=\"/Users/shaotingting/Library/CloudStorage/OneDrive-Personal/tingtingshao/masterThesis/data/GWAS_catalog/EUR_geno.2e-1.txt.gz\""
   ]
  },
  {
   "cell_type": "code",
   "execution_count": 5,
   "id": "2296d2e7",
   "metadata": {},
   "outputs": [],
   "source": [
    "ld_data=tabix.open(LD_file)"
   ]
  },
  {
   "cell_type": "code",
   "execution_count": 15,
   "id": "f7f5f49b",
   "metadata": {},
   "outputs": [
    {
     "ename": "TabixError",
     "evalue": "query failed",
     "output_type": "error",
     "traceback": [
      "\u001b[0;31m---------------------------------------------------------------------------\u001b[0m",
      "\u001b[0;31mTabixError\u001b[0m                                Traceback (most recent call last)",
      "Cell \u001b[0;32mIn[15], line 1\u001b[0m\n\u001b[0;32m----> 1\u001b[0m \u001b[43mld_data\u001b[49m\u001b[38;5;241;43m.\u001b[39;49m\u001b[43mquerys\u001b[49m\u001b[43m(\u001b[49m\u001b[38;5;124;43m\"\u001b[39;49m\u001b[38;5;124;43mrs138384704\u001b[39;49m\u001b[38;5;124;43m\"\u001b[39;49m\u001b[43m)\u001b[49m\n",
      "\u001b[0;31mTabixError\u001b[0m: query failed"
     ]
    }
   ],
   "source": [
    "ld_data.querys(\"rs138384704\")"
   ]
  }
 ],
 "metadata": {
  "kernelspec": {
   "display_name": "Python 3 (ipykernel)",
   "language": "python",
   "name": "python3"
  },
  "language_info": {
   "codemirror_mode": {
    "name": "ipython",
    "version": 3
   },
   "file_extension": ".py",
   "mimetype": "text/x-python",
   "name": "python",
   "nbconvert_exporter": "python",
   "pygments_lexer": "ipython3",
   "version": "3.10.9"
  }
 },
 "nbformat": 4,
 "nbformat_minor": 5
}
