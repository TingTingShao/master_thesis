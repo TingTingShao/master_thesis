{
 "cells": [
  {
   "cell_type": "code",
   "execution_count": 9,
   "id": "f581925b-39f6-44ad-8948-04b58b1a105a",
   "metadata": {},
   "outputs": [
    {
     "data": {
      "text/html": [
       "'/Users/shaotingting/Downloads/ENTER/envs/r-environment/lib/R/library'"
      ],
      "text/latex": [
       "'/Users/shaotingting/Downloads/ENTER/envs/r-environment/lib/R/library'"
      ],
      "text/markdown": [
       "'/Users/shaotingting/Downloads/ENTER/envs/r-environment/lib/R/library'"
      ],
      "text/plain": [
       "[1] \"/Users/shaotingting/Downloads/ENTER/envs/r-environment/lib/R/library\""
      ]
     },
     "metadata": {},
     "output_type": "display_data"
    }
   ],
   "source": [
    ".libPaths()"
   ]
  },
  {
   "cell_type": "code",
   "execution_count": 10,
   "id": "4694a817-b6e5-4757-84b2-d1509b908707",
   "metadata": {},
   "outputs": [
    {
     "ename": "ERROR",
     "evalue": "Error: package or namespace load failed for ‘gert’ in library.dynam(lib, package, package.lib):\n shared object ‘gert.dylib’ not found\n",
     "output_type": "error",
     "traceback": [
      "Error: package or namespace load failed for ‘gert’ in library.dynam(lib, package, package.lib):\n shared object ‘gert.dylib’ not found\nTraceback:\n",
      "1. library(gert)",
      "2. tryCatch({\n .     attr(package, \"LibPath\") <- which.lib.loc\n .     ns <- loadNamespace(package, lib.loc)\n .     env <- attachNamespace(ns, pos = pos, deps, exclude, include.only)\n . }, error = function(e) {\n .     P <- if (!is.null(cc <- conditionCall(e))) \n .         paste(\" in\", deparse(cc)[1L])\n .     else \"\"\n .     msg <- gettextf(\"package or namespace load failed for %s%s:\\n %s\", \n .         sQuote(package), P, conditionMessage(e))\n .     if (logical.return && !quietly) \n .         message(paste(\"Error:\", msg), domain = NA)\n .     else stop(msg, call. = FALSE, domain = NA)\n . })",
      "3. tryCatchList(expr, classes, parentenv, handlers)",
      "4. tryCatchOne(expr, names, parentenv, handlers[[1L]])",
      "5. value[[3L]](cond)",
      "6. stop(msg, call. = FALSE, domain = NA)"
     ]
    }
   ],
   "source": [
    "library(gert)"
   ]
  },
  {
   "cell_type": "code",
   "execution_count": 11,
   "id": "6c288a6d-2c8c-49ea-89e8-696b4fcc4d59",
   "metadata": {},
   "outputs": [
    {
     "name": "stderr",
     "output_type": "stream",
     "text": [
      "also installing the dependency ‘usethis’\n",
      "\n",
      "\n",
      "Updating HTML index of packages in '.Library'\n",
      "\n",
      "Making 'packages.html' ...\n",
      " done\n",
      "\n"
     ]
    }
   ],
   "source": [
    "if (!requireNamespace(\"devtools\", quietly = TRUE)) install.packages(\"devtools\")"
   ]
  },
  {
   "cell_type": "code",
   "execution_count": null,
   "id": "41d1b384-a1b5-447c-9d86-3901c6494f16",
   "metadata": {},
   "outputs": [],
   "source": []
  },
  {
   "cell_type": "code",
   "execution_count": 1,
   "id": "34932206",
   "metadata": {},
   "outputs": [
    {
     "ename": "ERROR",
     "evalue": "Error in library(ArchR): there is no package called ‘ArchR’\n",
     "output_type": "error",
     "traceback": [
      "Error in library(ArchR): there is no package called ‘ArchR’\nTraceback:\n",
      "1. library(ArchR)"
     ]
    }
   ],
   "source": [
    "library(ArchR)"
   ]
  }
 ],
 "metadata": {
  "kernelspec": {
   "display_name": "R",
   "language": "R",
   "name": "ir"
  },
  "language_info": {
   "codemirror_mode": "r",
   "file_extension": ".r",
   "mimetype": "text/x-r-source",
   "name": "R",
   "pygments_lexer": "r",
   "version": "4.3.2"
  }
 },
 "nbformat": 4,
 "nbformat_minor": 5
}
