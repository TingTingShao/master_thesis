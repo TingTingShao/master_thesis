{
 "cells": [
  {
   "cell_type": "code",
   "execution_count": 3,
   "id": "d06dc286",
   "metadata": {},
   "outputs": [],
   "source": [
    "import tabix\n",
    "import pandas as pd\n",
    "import gzip"
   ]
  },
  {
   "cell_type": "code",
   "execution_count": 13,
   "id": "4d5ff818",
   "metadata": {},
   "outputs": [],
   "source": [
    "ld_data=\"/Users/shaotingting/Library/CloudStorage/OneDrive-Personal/tingtingshao/masterThesis/data/GWAS_catalog/EUR_geno.txt.gz\""
   ]
  },
  {
   "cell_type": "code",
   "execution_count": 14,
   "id": "e21646a9",
   "metadata": {},
   "outputs": [],
   "source": [
    "ld=tabix.open(ld_data)"
   ]
  },
  {
   "cell_type": "code",
   "execution_count": 5,
   "id": "ef98a04b",
   "metadata": {},
   "outputs": [],
   "source": [
    "snps=\"/Volumes/USB/mater_thesis_data/GWAS_catalog/Bellenguez_1e-1.bed\""
   ]
  },
  {
   "cell_type": "code",
   "execution_count": 6,
   "id": "ac15d041",
   "metadata": {},
   "outputs": [],
   "source": [
    "snps=pd.read_csv(snps,header=None,sep='\\t')"
   ]
  },
  {
   "cell_type": "code",
   "execution_count": 8,
   "id": "7e31d7ee",
   "metadata": {},
   "outputs": [
    {
     "name": "stdout",
     "output_type": "stream",
     "text": [
      "<class 'pandas.core.frame.DataFrame'>\n",
      "RangeIndex: 2408721 entries, 0 to 2408720\n",
      "Data columns (total 5 columns):\n",
      " #   Column  Dtype  \n",
      "---  ------  -----  \n",
      " 0   0       object \n",
      " 1   1       int64  \n",
      " 2   2       int64  \n",
      " 3   3       object \n",
      " 4   4       float64\n",
      "dtypes: float64(1), int64(2), object(2)\n",
      "memory usage: 91.9+ MB\n"
     ]
    }
   ],
   "source": [
    "snps.info()"
   ]
  },
  {
   "cell_type": "code",
   "execution_count": 11,
   "id": "ee986afe",
   "metadata": {},
   "outputs": [
    {
     "data": {
      "text/html": [
       "<div>\n",
       "<style scoped>\n",
       "    .dataframe tbody tr th:only-of-type {\n",
       "        vertical-align: middle;\n",
       "    }\n",
       "\n",
       "    .dataframe tbody tr th {\n",
       "        vertical-align: top;\n",
       "    }\n",
       "\n",
       "    .dataframe thead th {\n",
       "        text-align: right;\n",
       "    }\n",
       "</style>\n",
       "<table border=\"1\" class=\"dataframe\">\n",
       "  <thead>\n",
       "    <tr style=\"text-align: right;\">\n",
       "      <th></th>\n",
       "      <th>0</th>\n",
       "      <th>1</th>\n",
       "      <th>2</th>\n",
       "      <th>3</th>\n",
       "      <th>4</th>\n",
       "    </tr>\n",
       "  </thead>\n",
       "  <tbody>\n",
       "    <tr>\n",
       "      <th>0</th>\n",
       "      <td>chr2</td>\n",
       "      <td>132475802</td>\n",
       "      <td>132475803</td>\n",
       "      <td>rs772614718</td>\n",
       "      <td>0.09999</td>\n",
       "    </tr>\n",
       "    <tr>\n",
       "      <th>1</th>\n",
       "      <td>chr14</td>\n",
       "      <td>87895738</td>\n",
       "      <td>87895739</td>\n",
       "      <td>rs17123888</td>\n",
       "      <td>0.09999</td>\n",
       "    </tr>\n",
       "    <tr>\n",
       "      <th>2</th>\n",
       "      <td>chr20</td>\n",
       "      <td>51428674</td>\n",
       "      <td>51428675</td>\n",
       "      <td>rs7265662</td>\n",
       "      <td>0.09999</td>\n",
       "    </tr>\n",
       "    <tr>\n",
       "      <th>3</th>\n",
       "      <td>chr6</td>\n",
       "      <td>57769742</td>\n",
       "      <td>57769743</td>\n",
       "      <td>rs1168389036</td>\n",
       "      <td>0.09999</td>\n",
       "    </tr>\n",
       "    <tr>\n",
       "      <th>4</th>\n",
       "      <td>chr4</td>\n",
       "      <td>30280394</td>\n",
       "      <td>30280395</td>\n",
       "      <td>rs563326477</td>\n",
       "      <td>0.09999</td>\n",
       "    </tr>\n",
       "  </tbody>\n",
       "</table>\n",
       "</div>"
      ],
      "text/plain": [
       "       0          1          2             3        4\n",
       "0   chr2  132475802  132475803   rs772614718  0.09999\n",
       "1  chr14   87895738   87895739    rs17123888  0.09999\n",
       "2  chr20   51428674   51428675     rs7265662  0.09999\n",
       "3   chr6   57769742   57769743  rs1168389036  0.09999\n",
       "4   chr4   30280394   30280395   rs563326477  0.09999"
      ]
     },
     "execution_count": 11,
     "metadata": {},
     "output_type": "execute_result"
    }
   ],
   "source": [
    "snps.head()"
   ]
  },
  {
   "cell_type": "code",
   "execution_count": null,
   "id": "8c201a00",
   "metadata": {},
   "outputs": [],
   "source": [
    "f=gzip.open(ld_data,'rb')\n",
    "ld_content=f.read()"
   ]
  },
  {
   "cell_type": "code",
   "execution_count": null,
   "id": "bcaed5df",
   "metadata": {},
   "outputs": [],
   "source": []
  },
  {
   "cell_type": "code",
   "execution_count": 7,
   "id": "6fb9f5e5",
   "metadata": {},
   "outputs": [
    {
     "ename": "SyntaxError",
     "evalue": "incomplete input (3546375066.py, line 1)",
     "output_type": "error",
     "traceback": [
      "\u001b[0;36m  Cell \u001b[0;32mIn[7], line 1\u001b[0;36m\u001b[0m\n\u001b[0;31m    for index, row in snps.iterrows():\u001b[0m\n\u001b[0m                                      ^\u001b[0m\n\u001b[0;31mSyntaxError\u001b[0m\u001b[0;31m:\u001b[0m incomplete input\n"
     ]
    }
   ],
   "source": [
    "for index, row in snps.iterrows():\n",
    "    if ld_data.query(row[0])"
   ]
  },
  {
   "cell_type": "markdown",
   "id": "078a900e",
   "metadata": {},
   "source": [
    "---\n"
   ]
  },
  {
   "cell_type": "code",
   "execution_count": 4,
   "id": "5efc9ef7",
   "metadata": {},
   "outputs": [],
   "source": [
    "path=\"/Volumes/USB/mater_thesis_data/sun_processedData\""
   ]
  },
  {
   "cell_type": "code",
   "execution_count": 10,
   "id": "1ac80ecd",
   "metadata": {},
   "outputs": [],
   "source": [
    "file=path+\"/synapseID.csv\""
   ]
  },
  {
   "cell_type": "code",
   "execution_count": 11,
   "id": "42357da4",
   "metadata": {},
   "outputs": [],
   "source": [
    "snpID=pd.read_csv(file,header=None,sep=',')"
   ]
  },
  {
   "cell_type": "code",
   "execution_count": 12,
   "id": "d46d7b0b",
   "metadata": {},
   "outputs": [
    {
     "data": {
      "text/plain": [
       "<bound method NDFrame.head of                                0            1\n",
       "0     D19-12513.fragments.tsv.gz  syn52403989\n",
       "1    D19-12513.possorted_bam.bam  syn52404044\n",
       "2     D19-12514.fragments.tsv.gz  syn52406899\n",
       "3    D19-12514.possorted_bam.bam  syn52406908\n",
       "4     D19-12515.fragments.tsv.gz  syn52401162\n",
       "..                           ...          ...\n",
       "178   D19-8611.possorted_bam.bam  syn52403007\n",
       "179    D19-8612.fragments.tsv.gz  syn52403128\n",
       "180   D19-8612.possorted_bam.bam  syn52403201\n",
       "181    D19-8613.fragments.tsv.gz  syn52401146\n",
       "182   D19-8613.possorted_bam.bam  syn52401171\n",
       "\n",
       "[183 rows x 2 columns]>"
      ]
     },
     "execution_count": 12,
     "metadata": {},
     "output_type": "execute_result"
    }
   ],
   "source": [
    "snpID.head"
   ]
  },
  {
   "cell_type": "code",
   "execution_count": 16,
   "id": "e29bd4af",
   "metadata": {},
   "outputs": [
    {
     "ename": "AttributeError",
     "evalue": "'Series' object has no attribute 'count_values'",
     "output_type": "error",
     "traceback": [
      "\u001b[0;31m---------------------------------------------------------------------------\u001b[0m",
      "\u001b[0;31mAttributeError\u001b[0m                            Traceback (most recent call last)",
      "Cell \u001b[0;32mIn[16], line 1\u001b[0m\n\u001b[0;32m----> 1\u001b[0m \u001b[43msnpID\u001b[49m\u001b[38;5;241;43m.\u001b[39;49m\u001b[43miloc\u001b[49m\u001b[43m[\u001b[49m\u001b[43m:\u001b[49m\u001b[43m,\u001b[49m\u001b[43m \u001b[49m\u001b[38;5;241;43m0\u001b[39;49m\u001b[43m]\u001b[49m\u001b[38;5;241;43m.\u001b[39;49m\u001b[43mcount_values\u001b[49m()\n",
      "File \u001b[0;32m~/Downloads/ENTER/lib/python3.10/site-packages/pandas/core/generic.py:5902\u001b[0m, in \u001b[0;36mNDFrame.__getattr__\u001b[0;34m(self, name)\u001b[0m\n\u001b[1;32m   5895\u001b[0m \u001b[38;5;28;01mif\u001b[39;00m (\n\u001b[1;32m   5896\u001b[0m     name \u001b[38;5;129;01mnot\u001b[39;00m \u001b[38;5;129;01min\u001b[39;00m \u001b[38;5;28mself\u001b[39m\u001b[38;5;241m.\u001b[39m_internal_names_set\n\u001b[1;32m   5897\u001b[0m     \u001b[38;5;129;01mand\u001b[39;00m name \u001b[38;5;129;01mnot\u001b[39;00m \u001b[38;5;129;01min\u001b[39;00m \u001b[38;5;28mself\u001b[39m\u001b[38;5;241m.\u001b[39m_metadata\n\u001b[1;32m   5898\u001b[0m     \u001b[38;5;129;01mand\u001b[39;00m name \u001b[38;5;129;01mnot\u001b[39;00m \u001b[38;5;129;01min\u001b[39;00m \u001b[38;5;28mself\u001b[39m\u001b[38;5;241m.\u001b[39m_accessors\n\u001b[1;32m   5899\u001b[0m     \u001b[38;5;129;01mand\u001b[39;00m \u001b[38;5;28mself\u001b[39m\u001b[38;5;241m.\u001b[39m_info_axis\u001b[38;5;241m.\u001b[39m_can_hold_identifiers_and_holds_name(name)\n\u001b[1;32m   5900\u001b[0m ):\n\u001b[1;32m   5901\u001b[0m     \u001b[38;5;28;01mreturn\u001b[39;00m \u001b[38;5;28mself\u001b[39m[name]\n\u001b[0;32m-> 5902\u001b[0m \u001b[38;5;28;01mreturn\u001b[39;00m \u001b[38;5;28;43mobject\u001b[39;49m\u001b[38;5;241;43m.\u001b[39;49m\u001b[38;5;21;43m__getattribute__\u001b[39;49m\u001b[43m(\u001b[49m\u001b[38;5;28;43mself\u001b[39;49m\u001b[43m,\u001b[49m\u001b[43m \u001b[49m\u001b[43mname\u001b[49m\u001b[43m)\u001b[49m\n",
      "\u001b[0;31mAttributeError\u001b[0m: 'Series' object has no attribute 'count_values'"
     ]
    }
   ],
   "source": []
  }
 ],
 "metadata": {
  "kernelspec": {
   "display_name": "Python 3 (ipykernel)",
   "language": "python",
   "name": "python3"
  },
  "language_info": {
   "codemirror_mode": {
    "name": "ipython",
    "version": 3
   },
   "file_extension": ".py",
   "mimetype": "text/x-python",
   "name": "python",
   "nbconvert_exporter": "python",
   "pygments_lexer": "ipython3",
   "version": "3.10.9"
  }
 },
 "nbformat": 4,
 "nbformat_minor": 5
}
